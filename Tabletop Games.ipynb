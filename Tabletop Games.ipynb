{
 "cells": [
  {
   "cell_type": "markdown",
   "id": "2932e6b0-eecd-424c-981d-dc71fd6977fc",
   "metadata": {},
   "source": [
    "# In Uno, what's the probability of drawing a wild plus 4 card first? Assume no other cards have been drawn yet."
   ]
  },
  {
   "cell_type": "markdown",
   "id": "d3986eac-c1b9-442c-b34f-9008c3fb7e83",
   "metadata": {},
   "source": [
    "This observational study uses a standard deck of Uno cards; I am not making any changes. Normally, there are 112 cards: 80 are all color number cards, 8 skips, 8 plus 2s, 8 reverses, 4 wild cards, and 4 plus 4 wild cards. I plan to find the probability of obtaining one wild plus 4 as the first drawn card. The information on the cards is sourced from Uno's rules website. The sample space is 108. One trial would be drawing a random number out of 108 to see if it matches up with 105, 106, 107, or 108. I want to measure how many times it can get one of those four cards in 200 trials. I will simplify the cards into 28, and I'll only count the cards if they hit exactly 28. This is the simplified version of the equation"
   ]
  },
  {
   "cell_type": "code",
   "execution_count": 1,
   "id": "ce325140-808f-4369-9f1c-64e23df85a73",
   "metadata": {},
   "outputs": [],
   "source": [
    "import random\n",
    "import seaborn as sns"
   ]
  },
  {
   "cell_type": "code",
   "execution_count": 11,
   "id": "83bc0012-d024-4ae0-a275-509ac504efaf",
   "metadata": {},
   "outputs": [],
   "source": [
    "\n",
    "results = {\n",
    "   \"Side\": [1, 2, 3, 4, 5, 6, 7, 8, 9, 10, 11, 12, 13, 14, 15, 16, 17, 18, 19, 20, 21, 22, 23, 24, 25, 26, 27, 28],\n",
    "    \"Frequency\": [0, 0, 0, 0, 0, 0, 0, 0, 0, 0, 0, 0, 0, 0, 0, 0, 0, 0, 0, 0, 0, 0, 0, 0, 0, 0, 0, 0]  \n",
    "}\n",
    "\n",
    "for i in range(100):  \n",
    "    number = random.randint(1, 28) \n",
    "    results[\"Frequency\"][number-1] += 1"
   ]
  },
  {
   "cell_type": "code",
   "execution_count": 12,
   "id": "76b6ce34-6c82-4891-85c3-2d26e5e15df9",
   "metadata": {
    "scrolled": true
   },
   "outputs": [
    {
     "name": "stderr",
     "output_type": "stream",
     "text": [
      "/opt/conda/envs/anaconda-2024.02-py310/lib/python3.10/site-packages/seaborn/_oldcore.py:1765: FutureWarning: unique with argument that is not not a Series, Index, ExtensionArray, or np.ndarray is deprecated and will raise in a future version.\n",
      "  order = pd.unique(vector)\n"
     ]
    },
    {
     "data": {
      "text/plain": [
       "<Axes: >"
      ]
     },
     "execution_count": 12,
     "metadata": {},
     "output_type": "execute_result"
    },
    {
     "data": {
      "image/png": "[encoded data removed]",
      "text/plain": [
       "<Figure size 640x480 with 1 Axes>"
      ]
     },
     "metadata": {},
     "output_type": "display_data"
    }
   ],
   "source": [
    "sns.barplot(data=results, x=\"Side\", y=\"Frequency\")"
   ]
  },
  {
   "cell_type": "markdown",
   "id": "d89d9d79-403d-4497-9ef3-1324284a9827",
   "metadata": {},
   "source": [
    "# The theoretical value for 100 trials would be 15 times you'd pick up a wild plus 4. the total amount of wild plus 4 cards that were picked n this stimulation was 12"
   ]
  },
  {
   "cell_type": "code",
   "execution_count": null,
   "id": "7be8fff8-bd25-4af4-8c7c-60de2ec8ff24",
   "metadata": {},
   "outputs": [],
   "source": []
  }
 ],
 "metadata": {
  "kernelspec": {
   "display_name": "anaconda-2024.02-py310",
   "language": "python",
   "name": "conda-env-anaconda-2024.02-py310-py"
  },
  "language_info": {
   "codemirror_mode": {
    "name": "ipython",
    "version": 3
   },
   "file_extension": ".py",
   "mimetype": "text/x-python",
   "name": "python",
   "nbconvert_exporter": "python",
   "pygments_lexer": "ipython3",
   "version": "3.10.14"
  }
 },
 "nbformat": 4,
 "nbformat_minor": 5
}
