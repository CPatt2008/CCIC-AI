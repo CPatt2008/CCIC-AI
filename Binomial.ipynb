{
 "cells": [
  {
   "cell_type": "markdown",
   "id": "7527a12a-c39e-471e-997d-4b03ca8293af",
   "metadata": {},
   "source": [
    "# A player has a 50% chance of hitting a UFO with any single shot. If the player shoots at 10  UFOs during a game, what is the probability that they hit 7 UFOs?"
   ]
  },
  {
   "cell_type": "markdown",
   "id": "ceb97e3d-e943-4fcb-9bb0-36b41cc7679a",
   "metadata": {},
   "source": [
    "An assumption you need to make is that the player is great at tracking and has increased their chances of hitting a UFO up to 50%. Random variables that I would be examining are each shot and whether it would land or not. One trial of this stimulation would be simulating the ten bullets shot and seeing how many do and don't hit the UFO."
   ]
  },
  {
   "cell_type": "code",
   "execution_count": 1,
   "id": "46ce22c4-f9b5-4186-a544-8f94624bf7a9",
   "metadata": {},
   "outputs": [
    {
     "name": "stdout",
     "output_type": "stream",
     "text": [
      "Defaulting to user installation because normal site-packages is not writeable\n",
      "Looking in links: /usr/share/pip-wheels\n",
      "Requirement already satisfied: gymnasium in ./.local/lib/python3.10/site-packages (1.2.1)\n",
      "Requirement already satisfied: numpy>=1.21.0 in /opt/conda/envs/anaconda-2024.02-py310/lib/python3.10/site-packages (from gymnasium) (1.26.4)\n",
      "Requirement already satisfied: cloudpickle>=1.2.0 in /opt/conda/envs/anaconda-2024.02-py310/lib/python3.10/site-packages (from gymnasium) (2.2.1)\n",
      "Requirement already satisfied: typing-extensions>=4.3.0 in /opt/conda/envs/anaconda-2024.02-py310/lib/python3.10/site-packages (from gymnasium) (4.9.0)\n",
      "Requirement already satisfied: farama-notifications>=0.0.1 in ./.local/lib/python3.10/site-packages (from gymnasium) (0.0.4)\n",
      "Defaulting to user installation because normal site-packages is not writeable\n",
      "Looking in links: /usr/share/pip-wheels\n",
      "Requirement already satisfied: gymnasium[Atari] in ./.local/lib/python3.10/site-packages (1.2.1)\n",
      "Requirement already satisfied: numpy>=1.21.0 in /opt/conda/envs/anaconda-2024.02-py310/lib/python3.10/site-packages (from gymnasium[Atari]) (1.26.4)\n",
      "Requirement already satisfied: cloudpickle>=1.2.0 in /opt/conda/envs/anaconda-2024.02-py310/lib/python3.10/site-packages (from gymnasium[Atari]) (2.2.1)\n",
      "Requirement already satisfied: typing-extensions>=4.3.0 in /opt/conda/envs/anaconda-2024.02-py310/lib/python3.10/site-packages (from gymnasium[Atari]) (4.9.0)\n",
      "Requirement already satisfied: farama-notifications>=0.0.1 in ./.local/lib/python3.10/site-packages (from gymnasium[Atari]) (0.0.4)\n",
      "Requirement already satisfied: ale_py>=0.9 in ./.local/lib/python3.10/site-packages (from gymnasium[Atari]) (0.11.2)\n",
      "Defaulting to user installation because normal site-packages is not writeable\n",
      "Looking in links: /usr/share/pip-wheels\n",
      "Requirement already satisfied: gymnasium[accept-rom-license] in ./.local/lib/python3.10/site-packages (1.2.1)\n",
      "\u001b[33mWARNING: gymnasium 1.2.1 does not provide the extra 'accept-rom-license'\u001b[0m\u001b[33m\n",
      "\u001b[0mRequirement already satisfied: numpy>=1.21.0 in /opt/conda/envs/anaconda-2024.02-py310/lib/python3.10/site-packages (from gymnasium[accept-rom-license]) (1.26.4)\n",
      "Requirement already satisfied: cloudpickle>=1.2.0 in /opt/conda/envs/anaconda-2024.02-py310/lib/python3.10/site-packages (from gymnasium[accept-rom-license]) (2.2.1)\n",
      "Requirement already satisfied: typing-extensions>=4.3.0 in /opt/conda/envs/anaconda-2024.02-py310/lib/python3.10/site-packages (from gymnasium[accept-rom-license]) (4.9.0)\n",
      "Requirement already satisfied: farama-notifications>=0.0.1 in ./.local/lib/python3.10/site-packages (from gymnasium[accept-rom-license]) (0.0.4)\n"
     ]
    }
   ],
   "source": [
    "!pip install gymnasium\n",
    "!pip install 'gymnasium[Atari]'\n",
    "!pip install gymnasium[accept-rom-license]"
   ]
  },
  {
   "cell_type": "code",
   "execution_count": 2,
   "id": "b530c63c-8227-4f40-908f-335a1a65b7db",
   "metadata": {},
   "outputs": [
    {
     "name": "stdout",
     "output_type": "stream",
     "text": [
      "CartPole-v0\n",
      "CartPole-v1\n",
      "MountainCar-v0\n",
      "MountainCarContinuous-v0\n",
      "Pendulum-v1\n",
      "Acrobot-v1\n",
      "phys2d/CartPole-v0\n",
      "phys2d/CartPole-v1\n",
      "phys2d/Pendulum-v0\n",
      "LunarLander-v3\n",
      "LunarLanderContinuous-v3\n",
      "BipedalWalker-v3\n",
      "BipedalWalkerHardcore-v3\n",
      "CarRacing-v3\n",
      "Blackjack-v1\n",
      "FrozenLake-v1\n",
      "FrozenLake8x8-v1\n",
      "CliffWalking-v1\n",
      "CliffWalkingSlippery-v1\n",
      "Taxi-v3\n",
      "tabular/Blackjack-v0\n",
      "tabular/CliffWalking-v0\n",
      "Reacher-v2\n",
      "Reacher-v4\n",
      "Reacher-v5\n",
      "Pusher-v2\n",
      "Pusher-v4\n",
      "Pusher-v5\n",
      "InvertedPendulum-v2\n",
      "InvertedPendulum-v4\n",
      "InvertedPendulum-v5\n",
      "InvertedDoublePendulum-v2\n",
      "InvertedDoublePendulum-v4\n",
      "InvertedDoublePendulum-v5\n",
      "HalfCheetah-v2\n",
      "HalfCheetah-v3\n",
      "HalfCheetah-v4\n",
      "HalfCheetah-v5\n",
      "Hopper-v2\n",
      "Hopper-v3\n",
      "Hopper-v4\n",
      "Hopper-v5\n",
      "Swimmer-v2\n",
      "Swimmer-v3\n",
      "Swimmer-v4\n",
      "Swimmer-v5\n",
      "Walker2d-v2\n",
      "Walker2d-v3\n",
      "Walker2d-v4\n",
      "Walker2d-v5\n",
      "Ant-v2\n",
      "Ant-v3\n",
      "Ant-v4\n",
      "Ant-v5\n",
      "Humanoid-v2\n",
      "Humanoid-v3\n",
      "Humanoid-v4\n",
      "Humanoid-v5\n",
      "HumanoidStandup-v2\n",
      "HumanoidStandup-v4\n",
      "HumanoidStandup-v5\n",
      "GymV21Environment-v0\n",
      "GymV26Environment-v0\n"
     ]
    }
   ],
   "source": [
    "import gymnasium as gym\n",
    "all_envs = gym.envs.registry\n",
    "for item in all_envs.keys():\n",
    "    print(item)"
   ]
  },
  {
   "cell_type": "code",
   "execution_count": 4,
   "id": "ac22da40-ed17-44f8-ae97-593618dabf6a",
   "metadata": {},
   "outputs": [],
   "source": [
    "import gymnasium as gym\n",
    "import matplotlib.pyplot as pit\n",
    "from IPython import display\n",
    "env = gym.make(\"Humanoid-v5\", render_mode=\"rgb_array\")\n",
    "observation, info = env.reset()"
   ]
  },
  {
   "cell_type": "code",
   "execution_count": null,
   "id": "51b2a6b2-1b95-4b8f-926c-671b997e406e",
   "metadata": {},
   "outputs": [],
   "source": []
  }
 ],
 "metadata": {
  "kernelspec": {
   "display_name": "anaconda-2024.02-py310",
   "language": "python",
   "name": "conda-env-anaconda-2024.02-py310-py"
  },
  "language_info": {
   "codemirror_mode": {
    "name": "ipython",
    "version": 3
   },
   "file_extension": ".py",
   "mimetype": "text/x-python",
   "name": "python",
   "nbconvert_exporter": "python",
   "pygments_lexer": "ipython3",
   "version": "3.10.14"
  }
 },
 "nbformat": 4,
 "nbformat_minor": 5
}
