{
 "cells": [
  {
   "cell_type": "markdown",
   "id": "dcd80c6b-8e1e-4158-bb58-7850547c714a",
   "metadata": {},
   "source": [
    "# In Uno, what is the probability of picking up a wild card or a wild plus four card? Assume no other cards have been drawn yet?"
   ]
  },
  {
   "cell_type": "markdown",
   "id": "8262b6ff-5228-4e3c-b6a4-8ee9cfca6185",
   "metadata": {},
   "source": [
    "The sample size would be all the cards in a regular Uno deck(112).  One trial would be running a simulation that has every outcome, and the first one would be the outcome we want. We'll run it over 100 times to see what we get.  I'm measuring the probability of this event happening in a game of Uno."
   ]
  },
  {
   "cell_type": "code",
   "execution_count": 1,
   "id": "a0db2b6a-9235-401f-94ff-7d47edd75330",
   "metadata": {},
   "outputs": [],
   "source": [
    "import random\n",
    "import seaborn as sns"
   ]
  },
  {
   "cell_type": "code",
   "execution_count": 2,
   "id": "564db6c0-ea72-41c0-93f8-2220ffe0e73a",
   "metadata": {},
   "outputs": [],
   "source": [
    "results1 = {\n",
    "   \"Side\": [1, 2, 3, 4, 5, 6, 7, 8, 9, 10, 11, 12, 13, 14],\n",
    "    \"Frequency\": [0, 0, 0, 0, 0, 0, 0, 0, 0, 0, 0, 0, 0, 0]  \n",
    "}\n",
    "\n",
    "for i in range(100):  \n",
    "    number = random.randint(1, 14) \n",
    "    results1[\"Frequency\"][number-1] += 1"
   ]
  },
  {
   "cell_type": "code",
   "execution_count": 3,
   "id": "6b1b168b-eccd-402e-bae8-595d29d5e610",
   "metadata": {},
   "outputs": [
    {
     "name": "stderr",
     "output_type": "stream",
     "text": [
      "/opt/conda/envs/anaconda-2024.02-py310/lib/python3.10/site-packages/seaborn/_oldcore.py:1765: FutureWarning: unique with argument that is not not a Series, Index, ExtensionArray, or np.ndarray is deprecated and will raise in a future version.\n",
      "  order = pd.unique(vector)\n"
     ]
    },
    {
     "data": {
      "text/plain": [
       "<Axes: >"
      ]
     },
     "execution_count": 3,
     "metadata": {},
     "output_type": "execute_result"
    },
    {
     "data": {
      "image/png": "[encoded data removed]",
      "text/plain": [
       "<Figure size 640x480 with 1 Axes>"
      ]
     },
     "metadata": {},
     "output_type": "display_data"
    }
   ],
   "source": [
    "sns.barplot(data=results1, x=\"Side\", y=\"Frequency\")\n",
    "# The first bar on the graph is the line we're measuring"
   ]
  },
  {
   "cell_type": "markdown",
   "id": "16411e28-836d-4815-ba2b-5d3cfa0ff87d",
   "metadata": {},
   "source": [
    "It was pulled 8 times"
   ]
  },
  {
   "cell_type": "markdown",
   "id": "b584811e-9733-499d-aa7f-ea61b484ba21",
   "metadata": {},
   "source": [
    "#  From our data, The theoretical probability of pulling either a wild card or a wild plus four as the first card was 7.14%(1/14), but our empirical value of the situation was 8% (8/100). Our Empirical value favored us getting the results more than the theoretical."
   ]
  },
  {
   "cell_type": "code",
   "execution_count": null,
   "id": "c258f09c-8bbb-4a81-b72d-30fc8400464d",
   "metadata": {},
   "outputs": [],
   "source": []
  }
 ],
 "metadata": {
  "kernelspec": {
   "display_name": "anaconda-2024.02-py310",
   "language": "python",
   "name": "conda-env-anaconda-2024.02-py310-py"
  },
  "language_info": {
   "codemirror_mode": {
    "name": "ipython",
    "version": 3
   },
   "file_extension": ".py",
   "mimetype": "text/x-python",
   "name": "python",
   "nbconvert_exporter": "python",
   "pygments_lexer": "ipython3",
   "version": "3.10.14"
  }
 },
 "nbformat": 4,
 "nbformat_minor": 5
}
