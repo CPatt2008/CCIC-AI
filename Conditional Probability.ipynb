{
 "cells": [
  {
   "cell_type": "markdown",
   "id": "4d58cf87-b584-4d9d-a762-a12397617e9e",
   "metadata": {},
   "source": [
    "# Given that the first card in Uno is red, what is the probability that the number is a 7?"
   ]
  },
  {
   "cell_type": "markdown",
   "id": "6f2f5ad3-c399-4bf5-a563-44fb083625d1",
   "metadata": {},
   "source": [
    "This observational study is about the card game Uno. The sample space of this question isn't every single card in the deck, but rather every card that is red; I'm not counting any wild cards because they shouldn't really count. There are a total of 25 red cards, and out of those cards only 2 are red. This makes the theoretical probability 2/25."
   ]
  },
  {
   "cell_type": "code",
   "execution_count": 1,
   "id": "0d51c16a-815a-48c7-9efe-ac691a3aa58c",
   "metadata": {},
   "outputs": [],
   "source": [
    "import random\n",
    "import seaborn as sns"
   ]
  },
  {
   "cell_type": "code",
   "execution_count": 16,
   "id": "0b5f4067-3082-47ec-92aa-d5fc020b0209",
   "metadata": {},
   "outputs": [],
   "source": [
    "\n",
    "results = {\n",
    "   \"Side\": [1, 2, 3, 4, 5, 6, 7, 8, 9, 10, 11, 12, 13, 14, 15, 16, 17, 18, 19, 20, 21, 22, 23, 24, 25],\n",
    "    \"Frequency\": [0, 0, 0, 0, 0, 0, 0, 0, 0, 0, 0, 0, 0, 0, 0, 0, 0, 0, 0, 0, 0, 0, 0, 0, 0,]  \n",
    "}\n",
    "\n",
    "for i in range(100):  \n",
    "    number = random.randint(1, 25) \n",
    "    results[\"Frequency\"][number-1] += 1"
   ]
  },
  {
   "cell_type": "code",
   "execution_count": 17,
   "id": "7f84ad90-24c6-4462-a257-851f95cb59c6",
   "metadata": {
    "jupyter": {
     "source_hidden": true
    }
   },
   "outputs": [
    {
     "name": "stderr",
     "output_type": "stream",
     "text": [
      "/opt/conda/envs/anaconda-2024.02-py310/lib/python3.10/site-packages/seaborn/_oldcore.py:1765: FutureWarning: unique with argument that is not not a Series, Index, ExtensionArray, or np.ndarray is deprecated and will raise in a future version.\n",
      "  order = pd.unique(vector)\n"
     ]
    },
    {
     "data": {
      "text/plain": [
       "<Axes: >"
      ]
     },
     "execution_count": 17,
     "metadata": {},
     "output_type": "execute_result"
    },
    {
     "data": {
      "image/png": "[encoded data removed]",
      "text/plain": [
       "<Figure size 640x480 with 1 Axes>"
      ]
     },
     "metadata": {},
     "output_type": "display_data"
    }
   ],
   "source": [
    "sns.barplot(data=results, x=\"Side\", y=\"Frequency\")"
   ]
  },
  {
   "cell_type": "markdown",
   "id": "4869dd0b-fb33-4170-87b1-b533c68e9489",
   "metadata": {},
   "source": [
    "# The theoretical probability states that we have a 8% chance of picking a red 7 (2/25), but our empirical probability states we have a 10% of getting that card(10/100). They both seem to be very close numbers, so I'd make the assumption that the chances of pulling a red four when no other red card has been pulled would be around 8-10%"
   ]
  },
  {
   "cell_type": "code",
   "execution_count": null,
   "id": "c3daab64-1929-453a-b200-e98983124dfd",
   "metadata": {},
   "outputs": [],
   "source": []
  }
 ],
 "metadata": {
  "kernelspec": {
   "display_name": "anaconda-2024.02-py310",
   "language": "python",
   "name": "conda-env-anaconda-2024.02-py310-py"
  },
  "language_info": {
   "codemirror_mode": {
    "name": "ipython",
    "version": 3
   },
   "file_extension": ".py",
   "mimetype": "text/x-python",
   "name": "python",
   "nbconvert_exporter": "python",
   "pygments_lexer": "ipython3",
   "version": "3.10.14"
  }
 },
 "nbformat": 4,
 "nbformat_minor": 5
}
