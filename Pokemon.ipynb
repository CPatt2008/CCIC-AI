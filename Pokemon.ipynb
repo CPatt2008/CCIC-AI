{
 "cells": [
  {
   "cell_type": "markdown",
   "id": "f0c50ba7-aeb0-4538-bb47-2f3d692963b6",
   "metadata": {},
   "source": [
    "# Question: How does the height of Onix compare to other Pokemon?"
   ]
  },
  {
   "cell_type": "markdown",
   "id": "64d4e0c3-aa52-4c42-8252-e3ace1936ee9",
   "metadata": {},
   "source": [
    "My teacher pulled data about 800 different pokemon into one piece of data. I'm going to use this data for this project. My goal is to separate the data into two sections: Onix and height. I then will use that data and put it into a histogram. With that information, I'll compare the data do the pokemon Onix."
   ]
  },
  {
   "cell_type": "code",
   "execution_count": 5,
   "id": "c8fa79b5-e7a9-4867-ab01-22457beeb6bb",
   "metadata": {},
   "outputs": [],
   "source": [
    "import pandas as pd\n",
    "import numpy as np\n",
    "import seaborn as sns\n",
    "import matplotlib.pyplot as plt"
   ]
  },
  {
   "cell_type": "code",
   "execution_count": 12,
   "id": "87edb78f-8174-431e-ad39-e8f353d69d52",
   "metadata": {},
   "outputs": [
    {
     "data": {
      "text/plain": [
       "Index(['name', 'pokedex_number', 'abilities', 'attack', 'capture_rate',\n",
       "       'classfication', 'defense', 'height_m', 'hp', 'sp_attack', 'sp_defense',\n",
       "       'speed', 'type1', 'type2', 'weight_kg', 'generation', 'is_legendary'],\n",
       "      dtype='object')"
      ]
     },
     "execution_count": 12,
     "metadata": {},
     "output_type": "execute_result"
    }
   ],
   "source": [
    "pokemon = pd.read_csv(\"pokemon.csv\")\n",
    "pokemon.columns"
   ]
  },
  {
   "cell_type": "code",
   "execution_count": 13,
   "id": "ce367a97-dbda-4e86-b7b9-075a1a2519bf",
   "metadata": {},
   "outputs": [
    {
     "name": "stderr",
     "output_type": "stream",
     "text": [
      "/opt/conda/envs/anaconda-2024.02-py310/lib/python3.10/site-packages/seaborn/_oldcore.py:1119: FutureWarning: use_inf_as_na option is deprecated and will be removed in a future version. Convert inf values to NaN before operating instead.\n",
      "  with pd.option_context('mode.use_inf_as_na', True):\n"
     ]
    },
    {
     "data": {
      "text/plain": [
       "<Axes: xlabel='height_m', ylabel='Count'>"
      ]
     },
     "execution_count": 13,
     "metadata": {},
     "output_type": "execute_result"
    },
    {
     "data": {
      "image/png": "[encoded data removed]",
      "text/plain": [
       "<Figure size 640x480 with 1 Axes>"
      ]
     },
     "metadata": {},
     "output_type": "display_data"
    }
   ],
   "source": [
    "sns.histplot(data=pokemon, x=\"height_m\")"
   ]
  },
  {
   "cell_type": "code",
   "execution_count": 14,
   "id": "74ee61f6-9888-4a5a-986b-e123330dd833",
   "metadata": {
    "editable": true,
    "slideshow": {
     "slide_type": ""
    },
    "tags": []
   },
   "outputs": [
    {
     "data": {
      "text/plain": [
       "1.1638924455825865"
      ]
     },
     "execution_count": 14,
     "metadata": {},
     "output_type": "execute_result"
    }
   ],
   "source": [
    "pokemon[\"height_m\"].mean()"
   ]
  },
  {
   "cell_type": "code",
   "execution_count": 15,
   "id": "36b7fc49-836d-491b-8a28-99af49c8b79b",
   "metadata": {},
   "outputs": [
    {
     "data": {
      "text/plain": [
       "1.0"
      ]
     },
     "execution_count": 15,
     "metadata": {},
     "output_type": "execute_result"
    }
   ],
   "source": [
    "pokemon[\"height_m\"].median()"
   ]
  },
  {
   "cell_type": "code",
   "execution_count": 17,
   "id": "2b4b9fff-b990-4201-9da4-ec4378652b0d",
   "metadata": {},
   "outputs": [],
   "source": [
    "heights = pokemon[\"height_m\"]"
   ]
  },
  {
   "cell_type": "code",
   "execution_count": 20,
   "id": "e6c5fcdc-9e2f-4c85-9e2b-df4453fb6b1a",
   "metadata": {},
   "outputs": [],
   "source": [
    "df = pd.DataFrame({\n",
    "    'Count': range(1, 802),\n",
    "    'Height': heights\n",
    "})"
   ]
  },
  {
   "cell_type": "code",
   "execution_count": 21,
   "id": "5bd89d46-8c15-48ff-a97e-3c5781bd8daa",
   "metadata": {},
   "outputs": [
    {
     "data": {
      "text/plain": [
       "count    781.000000\n",
       "mean       1.163892\n",
       "std        1.080326\n",
       "min        0.100000\n",
       "25%        0.600000\n",
       "50%        1.000000\n",
       "75%        1.500000\n",
       "max       14.500000\n",
       "Name: Height, dtype: float64"
      ]
     },
     "execution_count": 21,
     "metadata": {},
     "output_type": "execute_result"
    }
   ],
   "source": [
    "df['Height'].describe()"
   ]
  },
  {
   "cell_type": "code",
   "execution_count": 22,
   "id": "6f8914ec-4472-4f18-8c54-d72a34ddff49",
   "metadata": {},
   "outputs": [
    {
     "data": {
      "text/plain": [
       "<Axes: >"
      ]
     },
     "execution_count": 22,
     "metadata": {},
     "output_type": "execute_result"
    },
    {
     "data": {
      "image/png": "[encoded data removed]",
      "text/plain": [
       "<Figure size 640x480 with 1 Axes>"
      ]
     },
     "metadata": {},
     "output_type": "display_data"
    }
   ],
   "source": [
    "sns.boxplot(data=df['Height'])"
   ]
  },
  {
   "cell_type": "code",
   "execution_count": 24,
   "id": "ab2b2f00-0a95-465e-a87f-8d0ece0b9f1f",
   "metadata": {},
   "outputs": [
    {
     "data": {
      "text/html": [
       "<div>\n",
       "<style scoped>\n",
       "    .dataframe tbody tr th:only-of-type {\n",
       "        vertical-align: middle;\n",
       "    }\n",
       "\n",
       "    .dataframe tbody tr th {\n",
       "        vertical-align: top;\n",
       "    }\n",
       "\n",
       "    .dataframe thead th {\n",
       "        text-align: right;\n",
       "    }\n",
       "</style>\n",
       "<table border=\"1\" class=\"dataframe\">\n",
       "  <thead>\n",
       "    <tr style=\"text-align: right;\">\n",
       "      <th></th>\n",
       "      <th>name</th>\n",
       "      <th>pokedex_number</th>\n",
       "      <th>abilities</th>\n",
       "      <th>attack</th>\n",
       "      <th>capture_rate</th>\n",
       "      <th>classfication</th>\n",
       "      <th>defense</th>\n",
       "      <th>height_m</th>\n",
       "      <th>hp</th>\n",
       "      <th>sp_attack</th>\n",
       "      <th>sp_defense</th>\n",
       "      <th>speed</th>\n",
       "      <th>type1</th>\n",
       "      <th>type2</th>\n",
       "      <th>weight_kg</th>\n",
       "      <th>generation</th>\n",
       "      <th>is_legendary</th>\n",
       "    </tr>\n",
       "  </thead>\n",
       "  <tbody>\n",
       "    <tr>\n",
       "      <th>573</th>\n",
       "      <td>Onix</td>\n",
       "      <td>95</td>\n",
       "      <td>['Rock Head', 'Sturdy', 'Weak Armor']</td>\n",
       "      <td>45</td>\n",
       "      <td>45</td>\n",
       "      <td>Rock Snake Pokémon</td>\n",
       "      <td>160</td>\n",
       "      <td>8.8</td>\n",
       "      <td>35</td>\n",
       "      <td>30</td>\n",
       "      <td>45</td>\n",
       "      <td>70</td>\n",
       "      <td>rock</td>\n",
       "      <td>ground</td>\n",
       "      <td>210.0</td>\n",
       "      <td>1</td>\n",
       "      <td>0</td>\n",
       "    </tr>\n",
       "  </tbody>\n",
       "</table>\n",
       "</div>"
      ],
      "text/plain": [
       "     name  pokedex_number                              abilities  attack  \\\n",
       "573  Onix              95  ['Rock Head', 'Sturdy', 'Weak Armor']      45   \n",
       "\n",
       "    capture_rate       classfication  defense  height_m  hp  sp_attack  \\\n",
       "573           45  Rock Snake Pokémon      160       8.8  35         30   \n",
       "\n",
       "     sp_defense  speed type1   type2  weight_kg  generation  is_legendary  \n",
       "573          45     70  rock  ground      210.0           1             0  "
      ]
     },
     "execution_count": 24,
     "metadata": {},
     "output_type": "execute_result"
    }
   ],
   "source": [
    "pokemon[pokemon[\"name\"] == \"Onix\"]"
   ]
  },
  {
   "cell_type": "markdown",
   "id": "afaaa7c4-a3ae-4d1b-99e1-e151062e5d84",
   "metadata": {},
   "source": [
    "# Compared to the other pokemon, Onix would be in the 99th percentile. It's height reigns over amost every other pokemon in this list"
   ]
  },
  {
   "cell_type": "code",
   "execution_count": null,
   "id": "9666f1f9-d264-4bc4-a33a-44d871db21c8",
   "metadata": {},
   "outputs": [],
   "source": []
  }
 ],
 "metadata": {
  "kernelspec": {
   "display_name": "anaconda-2024.02-py310",
   "language": "python",
   "name": "conda-env-anaconda-2024.02-py310-py"
  },
  "language_info": {
   "codemirror_mode": {
    "name": "ipython",
    "version": 3
   },
   "file_extension": ".py",
   "mimetype": "text/x-python",
   "name": "python",
   "nbconvert_exporter": "python",
   "pygments_lexer": "ipython3",
   "version": "3.10.14"
  }
 },
 "nbformat": 4,
 "nbformat_minor": 5
}
