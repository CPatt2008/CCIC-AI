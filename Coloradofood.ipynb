{
 "cells": [
  {
   "cell_type": "markdown",
   "id": "c3c9a8b5-fa62-49a1-ad3e-675a937e651a",
   "metadata": {},
   "source": [
    "# What is the corelation between all Denver ramen places comparing yelp reviews with google reviews?"
   ]
  },
  {
   "cell_type": "markdown",
   "id": "b29d1c76-c3ba-4255-b236-a7bb98d26c7b",
   "metadata": {},
   "source": [
    "I plan on using my teacher's data set that holds over 60 ramen stores in Denver. This data also holds Yelp and Google reviews, and how many reviews each store got. I want to make a scatterplot comparing these restaurants' reviews and seeing if there is a correlation with the data. This will be a retrospective study because the data have already been created. This data was gathered by going to Yelp and searching up most ramen spots in the Denver area and finding the ratings along with the amount of ratings. Then we did the exact same with google reviews."
   ]
  },
  {
   "cell_type": "code",
   "execution_count": 32,
   "id": "43946b93-bf1d-4fd9-b0b3-36530e306502",
   "metadata": {},
   "outputs": [],
   "source": [
    "import pandas as pd\n",
    "import numpy as np\n",
    "import seaborn as sns"
   ]
  },
  {
   "cell_type": "code",
   "execution_count": 33,
   "id": "a249ce6b-f758-43df-ad30-da6b2f676120",
   "metadata": {},
   "outputs": [],
   "source": [
    "Ramen = pd.read_csv(\"Denver.csv\")"
   ]
  },
  {
   "cell_type": "code",
   "execution_count": 36,
   "id": "8640e34d-2dd5-4801-98c1-3b868f506896",
   "metadata": {},
   "outputs": [],
   "source": [
    "Ramen = Ramen.drop([1])"
   ]
  },
  {
   "cell_type": "markdown",
   "id": "24900002-f527-4807-802e-c225854edfc7",
   "metadata": {},
   "source": [
    "The very first line wouldn't let me graph it because you can graph a question mark with only numbers. However, Jinya Ramen had a huge difference when it cam to Google reviews. While every other spot had a max range of 5,000, This ramen spot had a total of 15,000 Google reviews which is a huge outlier. there must've been one of these two mistakes: an error by google, or they botted reviews. Either way, we need to get rid of it"
   ]
  },
  {
   "cell_type": "code",
   "execution_count": 37,
   "id": "843162b3-8012-47d1-bd52-fbdcf9761c43",
   "metadata": {},
   "outputs": [
    {
     "data": {
      "text/html": [
       "<div>\n",
       "<style scoped>\n",
       "    .dataframe tbody tr th:only-of-type {\n",
       "        vertical-align: middle;\n",
       "    }\n",
       "\n",
       "    .dataframe tbody tr th {\n",
       "        vertical-align: top;\n",
       "    }\n",
       "\n",
       "    .dataframe thead th {\n",
       "        text-align: right;\n",
       "    }\n",
       "</style>\n",
       "<table border=\"1\" class=\"dataframe\">\n",
       "  <thead>\n",
       "    <tr style=\"text-align: right;\">\n",
       "      <th></th>\n",
       "      <th>Name</th>\n",
       "      <th>Neighborhood</th>\n",
       "      <th>Yelp Rating</th>\n",
       "      <th>Yelp Reviews</th>\n",
       "      <th>Google Rating</th>\n",
       "      <th>Google Reviews</th>\n",
       "    </tr>\n",
       "  </thead>\n",
       "  <tbody>\n",
       "    <tr>\n",
       "      <th>2</th>\n",
       "      <td>Sushi Den</td>\n",
       "      <td>Platt Park</td>\n",
       "      <td>4.4</td>\n",
       "      <td>2500</td>\n",
       "      <td>4.7</td>\n",
       "      <td>4963</td>\n",
       "    </tr>\n",
       "    <tr>\n",
       "      <th>3</th>\n",
       "      <td>Domo</td>\n",
       "      <td>Licoln Park</td>\n",
       "      <td>3.6</td>\n",
       "      <td>1200</td>\n",
       "      <td>4.4</td>\n",
       "      <td>2945</td>\n",
       "    </tr>\n",
       "    <tr>\n",
       "      <th>4</th>\n",
       "      <td>Chubby Cattle</td>\n",
       "      <td>Speer</td>\n",
       "      <td>4.2</td>\n",
       "      <td>1600</td>\n",
       "      <td>4.5</td>\n",
       "      <td>2564</td>\n",
       "    </tr>\n",
       "    <tr>\n",
       "      <th>5</th>\n",
       "      <td>Uchi</td>\n",
       "      <td>Lodo</td>\n",
       "      <td>4.5</td>\n",
       "      <td>1100</td>\n",
       "      <td>4.6</td>\n",
       "      <td>2523</td>\n",
       "    </tr>\n",
       "    <tr>\n",
       "      <th>6</th>\n",
       "      <td>Menya Noodle Bar</td>\n",
       "      <td>LoDo</td>\n",
       "      <td>4.0</td>\n",
       "      <td>849</td>\n",
       "      <td>4.4</td>\n",
       "      <td>2027</td>\n",
       "    </tr>\n",
       "    <tr>\n",
       "      <th>7</th>\n",
       "      <td>Ace Eat Serve</td>\n",
       "      <td>LoDo</td>\n",
       "      <td>3.5</td>\n",
       "      <td>1000</td>\n",
       "      <td>4.3</td>\n",
       "      <td>1858</td>\n",
       "    </tr>\n",
       "    <tr>\n",
       "      <th>8</th>\n",
       "      <td>ChoLon Modern Asian</td>\n",
       "      <td>Lodo</td>\n",
       "      <td>4.1</td>\n",
       "      <td>1500</td>\n",
       "      <td>4.4</td>\n",
       "      <td>1855</td>\n",
       "    </tr>\n",
       "    <tr>\n",
       "      <th>9</th>\n",
       "      <td>Colorado Sake</td>\n",
       "      <td>Five Points</td>\n",
       "      <td>4.6</td>\n",
       "      <td>272</td>\n",
       "      <td>4.9</td>\n",
       "      <td>1781</td>\n",
       "    </tr>\n",
       "    <tr>\n",
       "      <th>10</th>\n",
       "      <td>Gyu-Kaku Japanese BBQ</td>\n",
       "      <td>LoDo</td>\n",
       "      <td>4.3</td>\n",
       "      <td>495</td>\n",
       "      <td>4.7</td>\n",
       "      <td>1655</td>\n",
       "    </tr>\n",
       "    <tr>\n",
       "      <th>11</th>\n",
       "      <td>Uncle</td>\n",
       "      <td>Highlands</td>\n",
       "      <td>4.0</td>\n",
       "      <td>1600</td>\n",
       "      <td>4.5</td>\n",
       "      <td>1619</td>\n",
       "    </tr>\n",
       "  </tbody>\n",
       "</table>\n",
       "</div>"
      ],
      "text/plain": [
       "                     Name Neighborhood  Yelp Rating  Yelp Reviews  \\\n",
       "2               Sushi Den   Platt Park          4.4          2500   \n",
       "3                    Domo  Licoln Park          3.6          1200   \n",
       "4           Chubby Cattle        Speer          4.2          1600   \n",
       "5                    Uchi         Lodo          4.5          1100   \n",
       "6        Menya Noodle Bar         LoDo          4.0           849   \n",
       "7           Ace Eat Serve         LoDo          3.5          1000   \n",
       "8     ChoLon Modern Asian         Lodo          4.1          1500   \n",
       "9          Colorado Sake   Five Points          4.6           272   \n",
       "10  Gyu-Kaku Japanese BBQ         LoDo          4.3           495   \n",
       "11                 Uncle     Highlands          4.0          1600   \n",
       "\n",
       "   Google Rating Google Reviews  \n",
       "2            4.7           4963  \n",
       "3            4.4           2945  \n",
       "4            4.5           2564  \n",
       "5            4.6           2523  \n",
       "6            4.4           2027  \n",
       "7            4.3           1858  \n",
       "8            4.4           1855  \n",
       "9            4.9           1781  \n",
       "10           4.7           1655  \n",
       "11           4.5           1619  "
      ]
     },
     "execution_count": 37,
     "metadata": {},
     "output_type": "execute_result"
    }
   ],
   "source": [
    "Ramen.head(10)"
   ]
  },
  {
   "cell_type": "code",
   "execution_count": 38,
   "id": "9163e5b2-e30f-469b-9828-707f4d1a32a8",
   "metadata": {},
   "outputs": [],
   "source": [
    "Ramen[\"Google Reviews\"] = Ramen[\"Google Reviews\"].astype(float)"
   ]
  },
  {
   "cell_type": "code",
   "execution_count": 39,
   "id": "ff4ca8fc-3e36-4aeb-803d-6714813f270f",
   "metadata": {},
   "outputs": [
    {
     "data": {
      "text/plain": [
       "<Axes: xlabel='Google Reviews', ylabel='Yelp Reviews'>"
      ]
     },
     "execution_count": 39,
     "metadata": {},
     "output_type": "execute_result"
    },
    {
     "data": {
      "image/png": "[encoded data removed]",
      "text/plain": [
       "<Figure size 640x480 with 1 Axes>"
      ]
     },
     "metadata": {},
     "output_type": "display_data"
    }
   ],
   "source": [
    "sns.scatterplot(data=Ramen, x=\"Google Reviews\", y=\"Yelp Reviews\")"
   ]
  },
  {
   "cell_type": "code",
   "execution_count": 43,
   "id": "36bf1d65-7178-44ac-a73d-099787130e9f",
   "metadata": {},
   "outputs": [],
   "source": [
    "reviews = Ramen[[\"Yelp Reviews\", \"Google Reviews\"]]"
   ]
  },
  {
   "cell_type": "code",
   "execution_count": 44,
   "id": "b1817c16-7522-4b3e-88eb-ca377fa458ab",
   "metadata": {},
   "outputs": [],
   "source": [
    "r = reviews.corr(method= 'pearson')"
   ]
  },
  {
   "cell_type": "code",
   "execution_count": 45,
   "id": "184d8605-ea2f-47db-b604-c431d4657357",
   "metadata": {},
   "outputs": [],
   "source": [
    "r2 = r * r"
   ]
  },
  {
   "cell_type": "code",
   "execution_count": 46,
   "id": "6415a6f5-3d7e-4974-afa0-ef237b825b23",
   "metadata": {},
   "outputs": [
    {
     "data": {
      "text/html": [
       "<div>\n",
       "<style scoped>\n",
       "    .dataframe tbody tr th:only-of-type {\n",
       "        vertical-align: middle;\n",
       "    }\n",
       "\n",
       "    .dataframe tbody tr th {\n",
       "        vertical-align: top;\n",
       "    }\n",
       "\n",
       "    .dataframe thead th {\n",
       "        text-align: right;\n",
       "    }\n",
       "</style>\n",
       "<table border=\"1\" class=\"dataframe\">\n",
       "  <thead>\n",
       "    <tr style=\"text-align: right;\">\n",
       "      <th></th>\n",
       "      <th>Yelp Reviews</th>\n",
       "      <th>Google Reviews</th>\n",
       "    </tr>\n",
       "  </thead>\n",
       "  <tbody>\n",
       "    <tr>\n",
       "      <th>Yelp Reviews</th>\n",
       "      <td>1.000000</td>\n",
       "      <td>0.901542</td>\n",
       "    </tr>\n",
       "    <tr>\n",
       "      <th>Google Reviews</th>\n",
       "      <td>0.901542</td>\n",
       "      <td>1.000000</td>\n",
       "    </tr>\n",
       "  </tbody>\n",
       "</table>\n",
       "</div>"
      ],
      "text/plain": [
       "                Yelp Reviews  Google Reviews\n",
       "Yelp Reviews        1.000000        0.901542\n",
       "Google Reviews      0.901542        1.000000"
      ]
     },
     "execution_count": 46,
     "metadata": {},
     "output_type": "execute_result"
    }
   ],
   "source": [
    "r"
   ]
  },
  {
   "cell_type": "code",
   "execution_count": 47,
   "id": "d6cc3bfa-17b1-41fe-8d7c-0f9435d2e70e",
   "metadata": {},
   "outputs": [
    {
     "data": {
      "text/html": [
       "<div>\n",
       "<style scoped>\n",
       "    .dataframe tbody tr th:only-of-type {\n",
       "        vertical-align: middle;\n",
       "    }\n",
       "\n",
       "    .dataframe tbody tr th {\n",
       "        vertical-align: top;\n",
       "    }\n",
       "\n",
       "    .dataframe thead th {\n",
       "        text-align: right;\n",
       "    }\n",
       "</style>\n",
       "<table border=\"1\" class=\"dataframe\">\n",
       "  <thead>\n",
       "    <tr style=\"text-align: right;\">\n",
       "      <th></th>\n",
       "      <th>Yelp Reviews</th>\n",
       "      <th>Google Reviews</th>\n",
       "    </tr>\n",
       "  </thead>\n",
       "  <tbody>\n",
       "    <tr>\n",
       "      <th>Yelp Reviews</th>\n",
       "      <td>1.000000</td>\n",
       "      <td>0.812778</td>\n",
       "    </tr>\n",
       "    <tr>\n",
       "      <th>Google Reviews</th>\n",
       "      <td>0.812778</td>\n",
       "      <td>1.000000</td>\n",
       "    </tr>\n",
       "  </tbody>\n",
       "</table>\n",
       "</div>"
      ],
      "text/plain": [
       "                Yelp Reviews  Google Reviews\n",
       "Yelp Reviews        1.000000        0.812778\n",
       "Google Reviews      0.812778        1.000000"
      ]
     },
     "execution_count": 47,
     "metadata": {},
     "output_type": "execute_result"
    }
   ],
   "source": [
    "r2"
   ]
  },
  {
   "cell_type": "markdown",
   "id": "1ad4ab0e-1d44-4177-9879-23a1fa0cb6a0",
   "metadata": {},
   "source": [
    "# The correlation between all Yelp and Google reviews is a Very strong positive correlation. They Both head into the positives and at a high rate as well. I've only had to take out two pieces of evidence because one wasn't able to be graphed and the other was a high outlier. It seems like for every one review a Ramen spot gets on Yedlp, they recieve two Reviews on Google."
   ]
  },
  {
   "cell_type": "code",
   "execution_count": null,
   "id": "b5de36cd-9831-415c-b6cf-b2e224b806eb",
   "metadata": {},
   "outputs": [],
   "source": []
  }
 ],
 "metadata": {
  "kernelspec": {
   "display_name": "anaconda-2024.02-py310",
   "language": "python",
   "name": "conda-env-anaconda-2024.02-py310-py"
  },
  "language_info": {
   "codemirror_mode": {
    "name": "ipython",
    "version": 3
   },
   "file_extension": ".py",
   "mimetype": "text/x-python",
   "name": "python",
   "nbconvert_exporter": "python",
   "pygments_lexer": "ipython3",
   "version": "3.10.14"
  }
 },
 "nbformat": 4,
 "nbformat_minor": 5
}
